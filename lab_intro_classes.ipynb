{
  "cells": [
    {
      "cell_type": "markdown",
      "metadata": {
        "id": "Rk7upFjCpn63"
      },
      "source": [
        "# 📝Lab Intro - Classes\n",
        "\n",
        "In this lab introduction we will briefly review and discuss classes. We will also go over some of the math involved in triangulation, which will be useful for this week's lab."
      ]
    },
    {
      "cell_type": "markdown",
      "metadata": {
        "id": "XO_Qx4Wwpn66"
      },
      "source": [
        "## Classes"
      ]
    },
    {
      "cell_type": "markdown",
      "metadata": {
        "id": "EQ9zTzzwpn66"
      },
      "source": [
        "### Creating a class\n",
        "\n",
        "You can use the keyword `class` to create a class. "
      ]
    },
    {
      "cell_type": "code",
      "execution_count": null,
      "metadata": {
        "id": "_oEqz_DTpn66"
      },
      "outputs": [],
      "source": [
        "class MyClass:\n",
        "    # contents of the class go indented here\n",
        "    ..."
      ]
    },
    {
      "cell_type": "markdown",
      "metadata": {
        "id": "joMSdFsvpn67"
      },
      "source": [
        "Classes can contain various attributes, including variables and functions."
      ]
    },
    {
      "cell_type": "code",
      "execution_count": null,
      "metadata": {
        "id": "rW-Tz4BLpn68"
      },
      "outputs": [],
      "source": [
        "class MyClass:\n",
        "    \n",
        "    myVar = 9\n",
        "\n",
        "    def myFunc():\n",
        "        print(\"Hello World\")"
      ]
    },
    {
      "cell_type": "markdown",
      "metadata": {
        "id": "CY_Ltr67pn68"
      },
      "source": [
        "We can access these by doing the following:"
      ]
    },
    {
      "cell_type": "code",
      "execution_count": null,
      "metadata": {
        "id": "mJZo-R3zpn68",
        "outputId": "eedee35e-c2ca-4702-99d1-4ecee9f5fc3e"
      },
      "outputs": [
        {
          "name": "stdout",
          "output_type": "stream",
          "text": [
            "Hello World\n"
          ]
        },
        {
          "data": {
            "text/plain": [
              "9"
            ]
          },
          "execution_count": 23,
          "metadata": {},
          "output_type": "execute_result"
        }
      ],
      "source": [
        "MyClass.myFunc()\n",
        "MyClass.myVar"
      ]
    },
    {
      "cell_type": "markdown",
      "metadata": {
        "id": "Rl1Q8SLEpn69"
      },
      "source": [
        "### Creating objects from classes\n",
        "\n",
        "You can create objects belonging to a class. First, we must discuss the `__init__` method.\n",
        "\n",
        "#### The `__init__` method\n",
        "\n",
        "The `__init__` method is a function that is used to handle the creation of new objects. The first input argument `self` is used to refer to the object being created. We can use `self.<variable name>` to create a variable specific to each object. "
      ]
    },
    {
      "cell_type": "code",
      "execution_count": null,
      "metadata": {
        "id": "ybLWb_kqpn6-"
      },
      "outputs": [],
      "source": [
        "class Student:\n",
        "\n",
        "    # the first input argument to init refers to the object being created\n",
        "    # by convention it is always called \"self\"\n",
        "    def __init__(self, fname, lname):\n",
        "        # self.fname is a variable \n",
        "        self.fname = fname\n",
        "        # self.lname is a variable \n",
        "        self.lname = lname"
      ]
    },
    {
      "cell_type": "markdown",
      "metadata": {
        "id": "6WaufBkKpn6-"
      },
      "source": [
        "To create a new object of class `Student`, we can do the following."
      ]
    },
    {
      "cell_type": "code",
      "execution_count": null,
      "metadata": {
        "id": "hH2f9VV2pn6-"
      },
      "outputs": [],
      "source": [
        "# The two strings are passed as the second and third input arguments to the __init__ method\n",
        "s1 = Student(\"John\", \"Foo\")"
      ]
    },
    {
      "cell_type": "markdown",
      "metadata": {
        "id": "VGnkFuCApn6-"
      },
      "source": [
        "We can create a different object belonging to the same class"
      ]
    },
    {
      "cell_type": "code",
      "execution_count": null,
      "metadata": {
        "id": "bp8QkSjmpn6_"
      },
      "outputs": [],
      "source": [
        "s2 = Student(\"Jane\", \"Bar\")"
      ]
    },
    {
      "cell_type": "markdown",
      "metadata": {
        "id": "xpi6b67epn6_"
      },
      "source": [
        "Each `Student` object has its own first and last name variables."
      ]
    },
    {
      "cell_type": "code",
      "execution_count": null,
      "metadata": {
        "id": "mVcQ--Yrpn6_",
        "outputId": "7c3b3b92-abd8-4d80-f508-21db64549c31"
      },
      "outputs": [
        {
          "name": "stdout",
          "output_type": "stream",
          "text": [
            "John\n",
            "Foo\n",
            "Jane\n",
            "Bar\n"
          ]
        }
      ],
      "source": [
        "print(s1.fname)\n",
        "print(s1.lname)\n",
        "\n",
        "print(s2.fname)\n",
        "print(s2.lname)"
      ]
    },
    {
      "cell_type": "markdown",
      "metadata": {
        "id": "0i5PsXLhpn6_"
      },
      "source": [
        "#### Adding methods\n",
        "\n",
        "A method is defined just like a function where the first argument is `self`, referring to the current object. (Just like with `__init__`, the first argument of all methods is called `self` by convention.)\n",
        "\n",
        "Below we define a method called `print_full_name` which prints the student's full name."
      ]
    },
    {
      "cell_type": "code",
      "execution_count": null,
      "metadata": {
        "id": "lOKK6sm8pn6_"
      },
      "outputs": [],
      "source": [
        "class Student:\n",
        "\n",
        "    def __init__(self, fname, lname):\n",
        "        self.fname = fname\n",
        "        self.lname = lname\n",
        "\n",
        "    def print_full_name(self):\n",
        "        print(f\"{self.fname} {self.lname}\")"
      ]
    },
    {
      "cell_type": "markdown",
      "metadata": {
        "id": "Pc0kyV1Fpn7A"
      },
      "source": [
        "When calling a method, the object itself is always passed in as the first argument. This is why there is nothing in the parentheses of the method calls below."
      ]
    },
    {
      "cell_type": "code",
      "execution_count": null,
      "metadata": {
        "id": "hYvq9Tlhpn7A",
        "outputId": "922ca98d-eb6b-48ce-c6c1-afe939acf541"
      },
      "outputs": [
        {
          "name": "stdout",
          "output_type": "stream",
          "text": [
            "John Foo\n",
            "Jane Bar\n"
          ]
        }
      ],
      "source": [
        "s1 = Student(\"John\", \"Foo\")\n",
        "s2 = Student(\"Jane\", \"Bar\")\n",
        "\n",
        "s1.print_full_name()\n",
        "s2.print_full_name()"
      ]
    }
  ],
  "metadata": {
    "celltoolbar": "Slideshow",
    "kernelspec": {
      "display_name": "engr131",
      "language": "python",
      "name": "python3"
    },
    "language_info": {
      "codemirror_mode": {
        "name": "ipython",
        "version": 3
      },
      "file_extension": ".py",
      "mimetype": "text/x-python",
      "name": "python",
      "nbconvert_exporter": "python",
      "pygments_lexer": "ipython3",
      "version": "3.10.4"
    },
    "varInspector": {
      "cols": {
        "lenName": 16,
        "lenType": 16,
        "lenVar": 40
      },
      "kernels_config": {
        "python": {
          "delete_cmd_postfix": "",
          "delete_cmd_prefix": "del ",
          "library": "var_list.py",
          "varRefreshCmd": "print(var_dic_list())"
        },
        "r": {
          "delete_cmd_postfix": ") ",
          "delete_cmd_prefix": "rm(",
          "library": "var_list.r",
          "varRefreshCmd": "cat(var_dic_list()) "
        }
      },
      "types_to_exclude": [
        "module",
        "function",
        "builtin_function_or_method",
        "instance",
        "_Feature"
      ],
      "window_display": false
    },
    "vscode": {
      "interpreter": {
        "hash": "513b23069d29a61750765eb13a612a21c520ffec067bf4e4e6fd69787237414d"
      }
    },
    "colab": {
      "provenance": []
    }
  },
  "nbformat": 4,
  "nbformat_minor": 0
}